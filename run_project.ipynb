{
  "cells": [
    {
      "cell_type": "markdown",
      "source": [
        "### Step to run the project\n",
        "\n",
        "1. clone the directory\n",
        "2. download dataset from kaggle\n",
        "\n",
        "If you want to tune and re-train the model run (this may take some time.)\n",
        "```\n",
        "!python3 train.py\n",
        "```\n",
        "\n",
        "\n",
        "\n",
        "If you want to test the already tuned and trained model run \n",
        "```\n",
        "!python3 test.py\n",
        "```\n",
        "\n",
        "\n",
        "\n"
      ],
      "metadata": {
        "id": "189iBPgU6kUa"
      }
    },
    {
      "cell_type": "code",
      "execution_count": 3,
      "metadata": {
        "id": "BLaRVeTJ4iI6",
        "outputId": "8acbe984-3124-4e4f-b96c-c34e6bb4d041",
        "colab": {
          "base_uri": "https://localhost:8080/"
        }
      },
      "outputs": [
        {
          "output_type": "stream",
          "name": "stdout",
          "text": [
            "Cloning into 'Algorithms-for-massive-data--DSE-'...\n",
            "remote: Enumerating objects: 30, done.\u001b[K\n",
            "remote: Counting objects: 100% (30/30), done.\u001b[K\n",
            "remote: Compressing objects: 100% (27/27), done.\u001b[K\n",
            "remote: Total 30 (delta 3), reused 30 (delta 3), pack-reused 0\u001b[K\n",
            "Unpacking objects: 100% (30/30), done.\n"
          ]
        }
      ],
      "source": [
        "!git clone https://github.com/MatteoTurla/Algorithms-for-massive-data--DSE-.git"
      ]
    },
    {
      "cell_type": "code",
      "source": [
        "%cd /content/Algorithms-for-massive-data--DSE-"
      ],
      "metadata": {
        "id": "tDP_bFU45I8T",
        "outputId": "35ef4dfa-e209-456a-d154-75c97333a0c7",
        "colab": {
          "base_uri": "https://localhost:8080/"
        }
      },
      "execution_count": 4,
      "outputs": [
        {
          "output_type": "stream",
          "name": "stdout",
          "text": [
            "/content/Algorithms-for-massive-data--DSE-\n"
          ]
        }
      ]
    },
    {
      "cell_type": "code",
      "execution_count": 5,
      "metadata": {
        "id": "2KEQ_z5H4iI9"
      },
      "outputs": [],
      "source": [
        "!python3 download_data.py"
      ]
    },
    {
      "cell_type": "code",
      "source": [
        "!python3 train.py"
      ],
      "metadata": {
        "id": "Nb53YdEZ7Tbl"
      },
      "execution_count": null,
      "outputs": []
    },
    {
      "cell_type": "code",
      "source": [
        "!python3 test.py"
      ],
      "metadata": {
        "id": "nJoE_F0U4zoY",
        "outputId": "403d56c9-479d-4ae2-fea5-c45c73984b61",
        "colab": {
          "base_uri": "https://localhost:8080/"
        }
      },
      "execution_count": 6,
      "outputs": [
        {
          "output_type": "stream",
          "name": "stdout",
          "text": [
            "running test.py\n",
            "----------\n",
            "loading data\n",
            "loading model\n",
            "current device: cpu\n",
            "computing accuracy over test dataset\n",
            "Test Error: \n",
            " Accuracy: 99.7%, Avg loss: 0.009200 \n",
            "\n"
          ]
        }
      ]
    }
  ],
  "metadata": {
    "kernelspec": {
      "display_name": "Python 3",
      "language": "python",
      "name": "python3"
    },
    "language_info": {
      "codemirror_mode": {
        "name": "ipython",
        "version": 3
      },
      "file_extension": ".py",
      "mimetype": "text/x-python",
      "name": "python",
      "nbconvert_exporter": "python",
      "pygments_lexer": "ipython3",
      "version": "3.7.4"
    },
    "latex_envs": {
      "LaTeX_envs_menu_present": true,
      "autoclose": false,
      "autocomplete": true,
      "bibliofile": "biblio.bib",
      "cite_by": "apalike",
      "current_citInitial": 1,
      "eqLabelWithNumbers": true,
      "eqNumInitial": 1,
      "hotkeys": {
        "equation": "Ctrl-E",
        "itemize": "Ctrl-I"
      },
      "labels_anchors": false,
      "latex_user_defs": false,
      "report_style_numbering": false,
      "user_envs_cfg": false
    },
    "colab": {
      "name": "run_project.ipynb",
      "provenance": []
    }
  },
  "nbformat": 4,
  "nbformat_minor": 0
}